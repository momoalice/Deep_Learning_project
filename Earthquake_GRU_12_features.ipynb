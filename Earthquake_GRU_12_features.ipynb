{
  "nbformat": 4,
  "nbformat_minor": 0,
  "metadata": {
    "colab": {
      "name": "Earthquake GRU 12 features.ipynb",
      "version": "0.3.2",
      "provenance": [],
      "collapsed_sections": []
    },
    "kernelspec": {
      "name": "python3",
      "display_name": "Python 3"
    },
    "accelerator": "GPU"
  },
  "cells": [
    {
      "metadata": {
        "id": "NnNwobQfn92u",
        "colab_type": "code",
        "outputId": "b6f4f998-7d91-4fc2-fa43-70f53c42592d",
        "colab": {
          "base_uri": "https://localhost:8080/",
          "height": 462
        }
      },
      "cell_type": "code",
      "source": [
        "# Connect Google drive with the colab\n",
        "from google.colab import drive\n",
        "drive.mount('/content/drive')\n",
        "import os\n",
        "os.listdir('/content/drive/My Drive/DL_Final_Proj')"
      ],
      "execution_count": 1,
      "outputs": [
        {
          "output_type": "stream",
          "text": [
            "Go to this URL in a browser: https://accounts.google.com/o/oauth2/auth?client_id=947318989803-6bn6qk8qdgf4n4g3pfee6491hc0brc4i.apps.googleusercontent.com&redirect_uri=urn%3Aietf%3Awg%3Aoauth%3A2.0%3Aoob&scope=email%20https%3A%2F%2Fwww.googleapis.com%2Fauth%2Fdocs.test%20https%3A%2F%2Fwww.googleapis.com%2Fauth%2Fdrive%20https%3A%2F%2Fwww.googleapis.com%2Fauth%2Fdrive.photos.readonly%20https%3A%2F%2Fwww.googleapis.com%2Fauth%2Fpeopleapi.readonly&response_type=code\n",
            "\n",
            "Enter your authorization code:\n",
            "··········\n",
            "Mounted at /content/drive\n"
          ],
          "name": "stdout"
        },
        {
          "output_type": "execute_result",
          "data": {
            "text/plain": [
              "['train.csv',\n",
              " 'sample_submission.csv',\n",
              " 'test',\n",
              " 'submission.csv',\n",
              " 'Copy of Earthquake.ipynb',\n",
              " 'X_tr',\n",
              " 'y_tr',\n",
              " 'submission_gru_48features.csv',\n",
              " 'model',\n",
              " 'Earthquake.ipynb',\n",
              " 'submission_gru_36_features_correct.csv',\n",
              " 'submission_lstm_36_features.csv',\n",
              " 'model_lstm_36_features',\n",
              " 'submission_cnn_lstm_36_features_10_epoch.csv',\n",
              " 'submission_cnn_lstm_36_features_20_epoch.csv',\n",
              " 'model_cnn_lstm_36_features',\n",
              " 'submission_cnn_lstm_36_features_30_epoch.csv',\n",
              " 'Earthquake CNN 36 Features.ipynb',\n",
              " 'Earthquake CNN LSTM 36 Features.ipynb',\n",
              " 'Earthquake GRU.ipynb']"
            ]
          },
          "metadata": {
            "tags": []
          },
          "execution_count": 1
        }
      ]
    },
    {
      "metadata": {
        "id": "PH-liBbIqYRs",
        "colab_type": "code",
        "colab": {}
      },
      "cell_type": "code",
      "source": [
        "root = '/content/drive/My Drive/DL_Final_Proj/'"
      ],
      "execution_count": 0,
      "outputs": []
    },
    {
      "metadata": {
        "id": "pm9iW8lKXhDm",
        "colab_type": "code",
        "colab": {}
      },
      "cell_type": "code",
      "source": [
        "# BASIC IDEA OF THE KERNEL\n",
        "\n",
        "# The data consists of a one dimensional time series x with 600 Mio data points. \n",
        "# At test time, we will see a time series of length 150'000 to predict the next earthquake.\n",
        "# The idea of this kernel is to randomly sample chunks of length 150'000 from x, derive some\n",
        "# features and use them to update weights of a recurrent neural net with 150'000 / 1000 = 150\n",
        "# time steps. \n",
        "\n",
        "import numpy as np \n",
        "import pandas as pd\n",
        "import os\n",
        "from tqdm import tqdm\n",
        "\n",
        "# Fix seeds\n",
        "from numpy.random import seed\n",
        "seed(639)\n",
        "from tensorflow import set_random_seed\n",
        "set_random_seed(5944)\n",
        "\n",
        "# Import\n",
        "float_data = pd.read_csv(root + \"train.csv\", dtype={\"acoustic_data\": np.float32, \"time_to_failure\": np.float32}).values"
      ],
      "execution_count": 0,
      "outputs": []
    },
    {
      "metadata": {
        "id": "blBPTr0BXvnq",
        "colab_type": "code",
        "outputId": "6e45bb67-1181-415c-9397-fe84cfbc0484",
        "colab": {
          "base_uri": "https://localhost:8080/",
          "height": 34
        }
      },
      "cell_type": "code",
      "source": [
        "# Helper function for the data generator. Extracts mean, standard deviation, and quantiles per time step.\n",
        "# Can easily be extended. Expects a two dimensional array.\n",
        "def extract_features(z):\n",
        "#       z_std = z.std(axis=1)\n",
        "#       z_mean = z.mean(axis=1)\n",
        "#       print(z.mean(axis=1))\n",
        "#       x_roll_mean = x.rolling(windows).mean().dropna().values\n",
        "      return np.c_[z.mean(axis=1), \n",
        "                  z.min(axis=1),\n",
        "                  z.max(axis=1),\n",
        "                  z.std(axis=1)]\n",
        "\n",
        "# For a given ending position \"last_index\", we split the last 150'000 values \n",
        "# of \"x\" into 150 pieces of length 1000 each. So n_steps * step_length should equal 150'000.\n",
        "# From each piece, a set features are extracted. This results in a feature matrix \n",
        "# of dimension (150 time steps x features).  \n",
        "def create_X(x, last_index=None, n_steps=150, step_length=1000):\n",
        "    if last_index == None:\n",
        "        last_index=len(x)\n",
        "       \n",
        "    assert last_index - n_steps * step_length >= 0\n",
        "\n",
        "    # Reshaping and approximate standardization with mean 5 and std 3.\n",
        "    temp = (x[(last_index - n_steps * step_length):last_index].reshape(n_steps, -1) - 5 ) / 3\n",
        "    \n",
        "    # Extracts features of sequences of full length 1000, of the last 100 values and finally also \n",
        "    # of the last 10 observations. \n",
        "    return np.c_[extract_features(temp),\n",
        "                 extract_features(temp[:, -step_length // 10:]),\n",
        "                 extract_features(temp[:, -step_length // 100:])]\n",
        "\n",
        "# Query \"create_X\" to figure out the number of features\n",
        "n_features = create_X(float_data[0:150000]).shape[1]\n",
        "print(\"Our RNN is based on %i features\"% n_features)\n",
        "    "
      ],
      "execution_count": 13,
      "outputs": [
        {
          "output_type": "stream",
          "text": [
            "Our RNN is based on 12 features\n"
          ],
          "name": "stdout"
        }
      ]
    },
    {
      "metadata": {
        "id": "9ni-IKYlXsdV",
        "colab_type": "code",
        "colab": {}
      },
      "cell_type": "code",
      "source": [
        "# The generator endlessly selects \"batch_size\" ending positions of sub-time series. For each ending position,\n",
        "# the \"time_to_failure\" serves as target, while the features are created by the function \"create_X\".\n",
        "def generator(data, min_index=0, max_index=None, batch_size=16, n_steps=150, step_length=1000):\n",
        "    if max_index is None:\n",
        "        max_index = len(data) - 1\n",
        "     \n",
        "    while True:\n",
        "        # Pick indices of ending positions\n",
        "        rows = np.random.randint(min_index + n_steps * step_length, max_index, size=batch_size)\n",
        "         \n",
        "        # Initialize feature matrices and targets\n",
        "        samples = np.zeros((batch_size, n_steps, n_features))\n",
        "        targets = np.zeros(batch_size, )\n",
        "        \n",
        "        for j, row in enumerate(rows):\n",
        "            samples[j] = create_X(data[:, 0], last_index=row, n_steps=n_steps, step_length=step_length)\n",
        "            targets[j] = data[row - 1, 1]\n",
        "        yield samples, targets\n",
        "        \n",
        "batch_size = 32\n",
        "\n",
        "# Position of second (of 16) earthquake. Used to have a clean split\n",
        "# between train and validation\n",
        "second_earthquake = 50085877\n",
        "float_data[second_earthquake, 1]\n",
        "\n",
        "# Initialize generators\n",
        "train_gen = generator(float_data, batch_size=batch_size) # Use this for better score\n",
        "# train_gen = generator(float_data, batch_size=batch_size, min_index=second_earthquake + 1)\n",
        "valid_gen = generator(float_data, batch_size=batch_size, max_index=second_earthquake)\n"
      ],
      "execution_count": 0,
      "outputs": []
    },
    {
      "metadata": {
        "id": "4VqFx_8RX3_7",
        "colab_type": "code",
        "outputId": "9a3f3e5a-8a91-4fbb-db60-f0dc84cce497",
        "colab": {
          "base_uri": "https://localhost:8080/",
          "height": 272
        }
      },
      "cell_type": "code",
      "source": [
        "# Define model\n",
        "from keras.models import Sequential\n",
        "from keras.layers import Dense, CuDNNGRU, CuDNNLSTM\n",
        "from keras.optimizers import adam\n",
        "from keras.callbacks import ModelCheckpoint\n",
        "\n",
        "cb = [ModelCheckpoint(\"model.hdf5\", save_best_only=True, period=3)]\n",
        "model = Sequential()\n",
        "model.add(CuDNNGRU(48, input_shape=(None, n_features)))\n",
        "model.add(Dense(100, activation='relu'))\n",
        "model.add(Dense(10, activation='relu'))\n",
        "model.add(Dense(1))\n",
        "\n",
        "model.summary()"
      ],
      "execution_count": 15,
      "outputs": [
        {
          "output_type": "stream",
          "text": [
            "_________________________________________________________________\n",
            "Layer (type)                 Output Shape              Param #   \n",
            "=================================================================\n",
            "cu_dnngru_3 (CuDNNGRU)       (None, 48)                8928      \n",
            "_________________________________________________________________\n",
            "dense_7 (Dense)              (None, 100)               4900      \n",
            "_________________________________________________________________\n",
            "dense_8 (Dense)              (None, 10)                1010      \n",
            "_________________________________________________________________\n",
            "dense_9 (Dense)              (None, 1)                 11        \n",
            "=================================================================\n",
            "Total params: 14,849\n",
            "Trainable params: 14,849\n",
            "Non-trainable params: 0\n",
            "_________________________________________________________________\n"
          ],
          "name": "stdout"
        }
      ]
    },
    {
      "metadata": {
        "id": "MlxyGB6BX66p",
        "colab_type": "code",
        "outputId": "07d725f6-9474-48a4-a1bc-3e9876299bc3",
        "colab": {
          "base_uri": "https://localhost:8080/",
          "height": 635
        }
      },
      "cell_type": "code",
      "source": [
        "# Compile and fit model\n",
        "model.compile(optimizer=adam(lr=0.0005), loss=\"mae\")\n",
        "\n",
        "history = model.fit_generator(train_gen,\n",
        "                              steps_per_epoch=1000,\n",
        "                              epochs=10,\n",
        "                              verbose=1,\n",
        "                              callbacks=cb,\n",
        "                              validation_data=valid_gen,\n",
        "                              validation_steps=200)\n",
        "\n",
        "# Visualize accuracies\n",
        "import matplotlib.pyplot as plt\n",
        "\n",
        "def perf_plot(history, what = 'loss'):\n",
        "    x = history.history[what]\n",
        "    val_x = history.history['val_' + what]\n",
        "    epochs = np.asarray(history.epoch) + 1\n",
        "    \n",
        "    plt.plot(epochs, x, 'bo', label = \"Training \" + what)\n",
        "    plt.plot(epochs, val_x, 'b', label = \"Validation \" + what)\n",
        "    plt.title(\"Training and validation \" + what)\n",
        "    plt.xlabel(\"Epochs\")\n",
        "    plt.legend()\n",
        "    plt.show()\n",
        "    return None\n",
        "\n",
        "perf_plot(history)"
      ],
      "execution_count": 16,
      "outputs": [
        {
          "output_type": "stream",
          "text": [
            "Epoch 1/10\n",
            "1000/1000 [==============================] - 566s 566ms/step - loss: 2.4369 - val_loss: 1.7514\n",
            "Epoch 2/10\n",
            "1000/1000 [==============================] - 820s 820ms/step - loss: 2.1012 - val_loss: 1.7492\n",
            "Epoch 3/10\n",
            "1000/1000 [==============================] - 838s 838ms/step - loss: 2.0854 - val_loss: 1.7822\n",
            "Epoch 4/10\n",
            "1000/1000 [==============================] - 285s 285ms/step - loss: 2.0852 - val_loss: 1.8529\n",
            "Epoch 5/10\n",
            "1000/1000 [==============================] - 814s 814ms/step - loss: 2.0852 - val_loss: 1.9069\n",
            "Epoch 6/10\n",
            "1000/1000 [==============================] - 830s 830ms/step - loss: 2.0794 - val_loss: 1.8845\n",
            "Epoch 7/10\n",
            "1000/1000 [==============================] - 847s 847ms/step - loss: 2.0766 - val_loss: 1.7771\n",
            "Epoch 8/10\n",
            "1000/1000 [==============================] - 809s 809ms/step - loss: 2.0541 - val_loss: 1.7398\n",
            "Epoch 9/10\n",
            "1000/1000 [==============================] - 828s 828ms/step - loss: 2.0541 - val_loss: 1.7338\n",
            "Epoch 10/10\n",
            "1000/1000 [==============================] - 823s 823ms/step - loss: 2.0582 - val_loss: 1.6735\n"
          ],
          "name": "stdout"
        },
        {
          "output_type": "display_data",
          "data": {
            "image/png": "[encoded data removed]",
            "text/plain": [
              "<Figure size 432x288 with 1 Axes>"
            ]
          },
          "metadata": {
            "tags": []
          }
        }
      ]
    },
    {
      "metadata": {
        "id": "Y4iPbIxhoHSU",
        "colab_type": "code",
        "outputId": "24fec4a2-c8ae-43f3-ab99-e44d7e4ac136",
        "colab": {
          "base_uri": "https://localhost:8080/",
          "height": 34
        }
      },
      "cell_type": "code",
      "source": [
        "# Load submission file\n",
        "submission = pd.read_csv(root + 'sample_submission.csv', index_col='seg_id', dtype={\"time_to_failure\": np.float32})\n",
        "\n",
        "# Load each test data, create the feature matrix, get numeric prediction\n",
        "for i, seg_id in enumerate(tqdm(submission.index)):\n",
        "  #  print(i)\n",
        "    seg = pd.read_csv(root + 'test/' + seg_id + '.csv')\n",
        "    x = seg['acoustic_data'].values\n",
        "    submission.time_to_failure[i] = model.predict(np.expand_dims(create_X(x), 0))\n",
        "\n",
        "submission.head()\n",
        "\n",
        "# Save\n",
        "submission.to_csv(root +'submission_lstm.csv')"
      ],
      "execution_count": 0,
      "outputs": [
        {
          "output_type": "stream",
          "text": [
            "100%|██████████| 2624/2624 [29:37<00:00,  1.50it/s]\n"
          ],
          "name": "stderr"
        }
      ]
    }
  ]
}