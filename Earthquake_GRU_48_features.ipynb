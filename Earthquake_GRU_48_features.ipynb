{
  "nbformat": 4,
  "nbformat_minor": 0,
  "metadata": {
    "colab": {
      "name": "Earthquake CNN GRU (1).ipynb",
      "version": "0.3.2",
      "provenance": [],
      "collapsed_sections": []
    },
    "kernelspec": {
      "name": "python3",
      "display_name": "Python 3"
    },
    "accelerator": "GPU"
  },
  "cells": [
    {
      "metadata": {
        "id": "NnNwobQfn92u",
        "colab_type": "code",
        "outputId": "78bfbe8b-f85c-422e-c767-75efb1956ebc",
        "colab": {
          "base_uri": "https://localhost:8080/",
          "height": 204
        }
      },
      "cell_type": "code",
      "source": [
        "# Connect Google drive with the colab\n",
        "from google.colab import drive\n",
        "drive.mount('/content/drive')\n",
        "import os\n",
        "os.listdir('/content/drive/My Drive/DL_Final_Proj')"
      ],
      "execution_count": 0,
      "outputs": [
        {
          "output_type": "stream",
          "text": [
            "Drive already mounted at /content/drive; to attempt to forcibly remount, call drive.mount(\"/content/drive\", force_remount=True).\n"
          ],
          "name": "stdout"
        },
        {
          "output_type": "execute_result",
          "data": {
            "text/plain": [
              "['train.csv',\n",
              " 'sample_submission.csv',\n",
              " 'test',\n",
              " 'submission.csv',\n",
              " 'Earthquake.ipynb',\n",
              " 'Copy of Earthquake.ipynb',\n",
              " 'Earthquake CNN GRU.ipynb',\n",
              " 'y_tr',\n",
              " 'X_tr',\n",
              " 'Earthquake CNN GRU (1).ipynb']"
            ]
          },
          "metadata": {
            "tags": []
          },
          "execution_count": 3
        }
      ]
    },
    {
      "metadata": {
        "id": "PH-liBbIqYRs",
        "colab_type": "code",
        "colab": {}
      },
      "cell_type": "code",
      "source": [
        "root = '/content/drive/My Drive/DL_Final_Proj/'"
      ],
      "execution_count": 0,
      "outputs": []
    },
    {
      "metadata": {
        "id": "pm9iW8lKXhDm",
        "colab_type": "code",
        "colab": {}
      },
      "cell_type": "code",
      "source": [
        "# BASIC IDEA OF THE KERNEL\n",
        "\n",
        "# The data consists of a one dimensional time series x with 600 Mio data points. \n",
        "# At test time, we will see a time series of length 150'000 to predict the next earthquake.\n",
        "# The idea of this kernel is to randomly sample chunks of length 150'000 from x, derive some\n",
        "# features and use them to update weights of a recurrent neural net with 150'000 / 1000 = 150\n",
        "# time steps. \n",
        "\n",
        "import numpy as np \n",
        "import pandas as pd\n",
        "import os\n",
        "from tqdm import tqdm\n",
        "\n",
        "# Fix seeds\n",
        "from numpy.random import seed\n",
        "seed(639)\n",
        "from tensorflow import set_random_seed\n",
        "set_random_seed(5944)\n",
        "\n",
        "# Import\n",
        "float_data = pd.read_csv(root + \"train.csv\", dtype={\"acoustic_data\": np.float32, \"time_to_failure\": np.float32}).values"
      ],
      "execution_count": 0,
      "outputs": []
    },
    {
      "metadata": {
        "id": "blBPTr0BXvnq",
        "colab_type": "code",
        "outputId": "6b119a52-8e2e-4a4c-d3e3-eebfd267f208",
        "colab": {
          "base_uri": "https://localhost:8080/",
          "height": 34
        }
      },
      "cell_type": "code",
      "source": [
        "# Helper function for the data generator. Extracts mean, standard deviation, and quantiles per time step.\n",
        "# Can easily be extended. Expects a two dimensional array.\n",
        "def extract_features(z):\n",
        "      z_std = z.std(axis=0)\n",
        "      z_mean = z.mean(axis=0)\n",
        "#       x_roll_mean = x.rolling(windows).mean().dropna().values\n",
        "      return np.c_[z_mean.mean(), \n",
        "                  z_mean.min(),\n",
        "                  z_mean.max(),\n",
        "                  z_mean.std(),\n",
        "                  np.quantile(z_mean, 0.01),\n",
        "                  np.quantile(z_mean, 0.05),\n",
        "                  np.quantile(z_mean, 0.95),\n",
        "                  np.quantile(z_mean, 0.99),\n",
        "                  z_std.mean(), \n",
        "                  z_std.min(),\n",
        "                  z_std.max(),\n",
        "                  z_std.std(),\n",
        "                  np.quantile(z_std, 0.01),\n",
        "                  np.quantile(z_std, 0.05),\n",
        "                  np.quantile(z_std, 0.95),\n",
        "                  np.quantile(z_std, 0.99)]\n",
        "\n",
        "# For a given ending position \"last_index\", we split the last 150'000 values \n",
        "# of \"x\" into 150 pieces of length 1000 each. So n_steps * step_length should equal 150'000.\n",
        "# From each piece, a set features are extracted. This results in a feature matrix \n",
        "# of dimension (150 time steps x features).  \n",
        "def create_X(x, last_index=None, n_steps=150, step_length=1000):\n",
        "    if last_index == None:\n",
        "        last_index=len(x)\n",
        "       \n",
        "    assert last_index - n_steps * step_length >= 0\n",
        "\n",
        "    # Reshaping and approximate standardization with mean 5 and std 3.\n",
        "    temp = (x[(last_index - n_steps * step_length):last_index].reshape(n_steps, -1) - 5 ) / 3\n",
        "    \n",
        "    # Extracts features of sequences of full length 1000, of the last 100 values and finally also \n",
        "    # of the last 10 observations. \n",
        "    return np.c_[extract_features(temp),\n",
        "                 extract_features(temp[:, -step_length // 10:]),\n",
        "                 extract_features(temp[:, -step_length // 100:])]\n",
        "\n",
        "# Query \"create_X\" to figure out the number of features\n",
        "n_features = create_X(float_data[0:150000]).shape[1]\n",
        "print(\"Our RNN is based on %i features\"% n_features)\n",
        "    "
      ],
      "execution_count": 0,
      "outputs": [
        {
          "output_type": "stream",
          "text": [
            "Our RNN is based on 48 features\n"
          ],
          "name": "stdout"
        }
      ]
    },
    {
      "metadata": {
        "id": "9ni-IKYlXsdV",
        "colab_type": "code",
        "colab": {}
      },
      "cell_type": "code",
      "source": [
        "# The generator endlessly selects \"batch_size\" ending positions of sub-time series. For each ending position,\n",
        "# the \"time_to_failure\" serves as target, while the features are created by the function \"create_X\".\n",
        "def generator(data, min_index=0, max_index=None, batch_size=16, n_steps=150, step_length=1000):\n",
        "    if max_index is None:\n",
        "        max_index = len(data) - 1\n",
        "     \n",
        "    while True:\n",
        "        # Pick indices of ending positions\n",
        "        rows = np.random.randint(min_index + n_steps * step_length, max_index, size=batch_size)\n",
        "         \n",
        "        # Initialize feature matrices and targets\n",
        "        samples = np.zeros((batch_size, n_steps, n_features))\n",
        "        targets = np.zeros(batch_size, )\n",
        "        \n",
        "        for j, row in enumerate(rows):\n",
        "            samples[j] = create_X(data[:, 0], last_index=row, n_steps=n_steps, step_length=step_length)\n",
        "            targets[j] = data[row - 1, 1]\n",
        "        yield samples, targets\n",
        "        \n",
        "batch_size = 32\n",
        "\n",
        "# Position of second (of 16) earthquake. Used to have a clean split\n",
        "# between train and validation\n",
        "second_earthquake = 50085877\n",
        "float_data[second_earthquake, 1]\n",
        "\n",
        "# Initialize generators\n",
        "train_gen = generator(float_data, batch_size=batch_size) # Use this for better score\n",
        "# train_gen = generator(float_data, batch_size=batch_size, min_index=second_earthquake + 1)\n",
        "valid_gen = generator(float_data, batch_size=batch_size, max_index=second_earthquake)\n"
      ],
      "execution_count": 0,
      "outputs": []
    },
    {
      "metadata": {
        "id": "4VqFx_8RX3_7",
        "colab_type": "code",
        "outputId": "b484caa2-3b4d-4032-869b-9a03df58fdd8",
        "colab": {
          "base_uri": "https://localhost:8080/",
          "height": 272
        }
      },
      "cell_type": "code",
      "source": [
        "# Define model\n",
        "from keras.models import Sequential\n",
        "from keras.layers import Dense, CuDNNGRU, CuDNNLSTM\n",
        "from keras.optimizers import adam\n",
        "from keras.callbacks import ModelCheckpoint\n",
        "\n",
        "cb = [ModelCheckpoint(\"model.hdf5\", save_best_only=True, period=3)]\n",
        "\n",
        "model = Sequential()\n",
        "model.add(CuDNNGRU(48, input_shape=(None, n_features)))\n",
        "model.add(Dense(100, activation='relu'))\n",
        "model.add(Dense(10, activation='relu'))\n",
        "model.add(Dense(1))\n",
        "\n",
        "model.summary()"
      ],
      "execution_count": 0,
      "outputs": [
        {
          "output_type": "stream",
          "text": [
            "_________________________________________________________________\n",
            "Layer (type)                 Output Shape              Param #   \n",
            "=================================================================\n",
            "cu_dnngru_2 (CuDNNGRU)       (None, 48)                14112     \n",
            "_________________________________________________________________\n",
            "dense_4 (Dense)              (None, 100)               4900      \n",
            "_________________________________________________________________\n",
            "dense_5 (Dense)              (None, 10)                1010      \n",
            "_________________________________________________________________\n",
            "dense_6 (Dense)              (None, 1)                 11        \n",
            "=================================================================\n",
            "Total params: 20,033\n",
            "Trainable params: 20,033\n",
            "Non-trainable params: 0\n",
            "_________________________________________________________________\n"
          ],
          "name": "stdout"
        }
      ]
    },
    {
      "metadata": {
        "id": "MlxyGB6BX66p",
        "colab_type": "code",
        "outputId": "ac5003a6-579a-4e82-9682-20c18ec6e491",
        "colab": {
          "base_uri": "https://localhost:8080/",
          "height": 716
        }
      },
      "cell_type": "code",
      "source": [
        "# Compile and fit model\n",
        "model.compile(optimizer=adam(lr=0.0005), loss=\"mae\")\n",
        "\n",
        "history = model.fit_generator(train_gen,\n",
        "                              steps_per_epoch=1000,\n",
        "                              epochs=10,\n",
        "                              verbose=1,\n",
        "                              callbacks=cb,\n",
        "                              validation_data=valid_gen,\n",
        "                              validation_steps=200)\n",
        "\n",
        "# Visualize accuracies\n",
        "import matplotlib.pyplot as plt\n",
        "\n",
        "def perf_plot(history, what = 'loss'):\n",
        "    x = history.history[what]\n",
        "    val_x = history.history['val_' + what]\n",
        "    epochs = np.asarray(history.epoch) + 1\n",
        "    \n",
        "    plt.plot(epochs, x, 'bo', label = \"Training \" + what)\n",
        "    plt.plot(epochs, val_x, 'b', label = \"Validation \" + what)\n",
        "    plt.title(\"Training and validation \" + what)\n",
        "    plt.xlabel(\"Epochs\")\n",
        "    plt.legend()\n",
        "    plt.show()\n",
        "    return None\n",
        "\n",
        "perf_plot(history)"
      ],
      "execution_count": 0,
      "outputs": [
        {
          "output_type": "stream",
          "text": [
            "Epoch 1/10\n",
            "1000/1000 [==============================] - 215s 215ms/step - loss: 2.1051 - val_loss: 1.8656\n",
            "Epoch 2/10\n",
            "1000/1000 [==============================] - 205s 205ms/step - loss: 2.1048 - val_loss: 1.6895\n",
            "Epoch 3/10\n",
            "1000/1000 [==============================] - 216s 216ms/step - loss: 2.1031 - val_loss: 1.8051\n",
            "Epoch 4/10\n",
            "1000/1000 [==============================] - 218s 218ms/step - loss: 2.1014 - val_loss: 1.9724\n",
            "Epoch 5/10\n",
            "1000/1000 [==============================] - 218s 218ms/step - loss: 2.1045 - val_loss: 1.7221\n",
            "Epoch 6/10\n",
            "1000/1000 [==============================] - 203s 203ms/step - loss: 2.1012 - val_loss: 1.7993\n",
            "Epoch 7/10\n",
            "1000/1000 [==============================] - 218s 218ms/step - loss: 2.0989 - val_loss: 1.8000\n",
            "Epoch 8/10\n",
            "1000/1000 [==============================] - 220s 220ms/step - loss: 2.1066 - val_loss: 1.7222\n",
            "Epoch 9/10\n",
            "1000/1000 [==============================] - 213s 213ms/step - loss: 2.1139 - val_loss: 1.7346\n",
            "Epoch 10/10\n",
            "1000/1000 [==============================] - 205s 205ms/step - loss: 2.1163 - val_loss: 1.8072\n"
          ],
          "name": "stdout"
        },
        {
          "output_type": "display_data",
          "data": {
            "image/png": "[encoded data removed]",
            "text/plain": [
              "<Figure size 576x396 with 1 Axes>"
            ]
          },
          "metadata": {
            "tags": []
          }
        }
      ]
    },
    {
      "metadata": {
        "id": "gzvCfirYkoBf",
        "colab_type": "code",
        "colab": {}
      },
      "cell_type": "code",
      "source": [
        "import pickle\n",
        "pickle.dump(model, open(root+'model', 'wb'))"
      ],
      "execution_count": 0,
      "outputs": []
    },
    {
      "metadata": {
        "id": "Y4iPbIxhoHSU",
        "colab_type": "code",
        "outputId": "a9e76f41-5eff-46ab-a0d5-a714adc20786",
        "colab": {
          "base_uri": "https://localhost:8080/",
          "height": 232
        }
      },
      "cell_type": "code",
      "source": [
        "# Load submission file\n",
        "submission = pd.read_csv(root + 'sample_submission.csv', index_col='seg_id', dtype={\"time_to_failure\": np.float32})\n",
        "\n",
        "# Load each test data, create the feature matrix, get numeric prediction\n",
        "for i, seg_id in enumerate(tqdm(submission.index)):\n",
        "  #  print(i)\n",
        "    seg = pd.read_csv(root + 'test/' + seg_id + '.csv')\n",
        "    x = seg['acoustic_data'].values\n",
        "    submission.time_to_failure[i] = model.predict(np.expand_dims(create_X(x), 0))\n",
        "\n",
        "submission.head()\n",
        "\n",
        "# Save\n",
        "submission.to_csv(root +'submission_gru_48features.csv')"
      ],
      "execution_count": 0,
      "outputs": [
        {
          "output_type": "error",
          "ename": "NameError",
          "evalue": "ignored",
          "traceback": [
            "\u001b[0;31m---------------------------------------------------------------------------\u001b[0m",
            "\u001b[0;31mNameError\u001b[0m                                 Traceback (most recent call last)",
            "\u001b[0;32m<ipython-input-1-f5fc172d8e45>\u001b[0m in \u001b[0;36m<module>\u001b[0;34m()\u001b[0m\n\u001b[0;32m----> 1\u001b[0;31m \u001b[0msubmission\u001b[0m \u001b[0;34m=\u001b[0m \u001b[0mpd\u001b[0m\u001b[0;34m.\u001b[0m\u001b[0mread_csv\u001b[0m\u001b[0;34m(\u001b[0m\u001b[0mroot\u001b[0m \u001b[0;34m+\u001b[0m \u001b[0;34m'sample_submission.csv'\u001b[0m\u001b[0;34m,\u001b[0m \u001b[0mindex_col\u001b[0m\u001b[0;34m=\u001b[0m\u001b[0;34m'seg_id'\u001b[0m\u001b[0;34m,\u001b[0m \u001b[0mdtype\u001b[0m\u001b[0;34m=\u001b[0m\u001b[0;34m{\u001b[0m\u001b[0;34m\"time_to_failure\"\u001b[0m\u001b[0;34m:\u001b[0m \u001b[0mnp\u001b[0m\u001b[0;34m.\u001b[0m\u001b[0mfloat32\u001b[0m\u001b[0;34m}\u001b[0m\u001b[0;34m)\u001b[0m\u001b[0;34m\u001b[0m\u001b[0;34m\u001b[0m\u001b[0m\n\u001b[0m\u001b[1;32m      2\u001b[0m \u001b[0;34m\u001b[0m\u001b[0m\n\u001b[1;32m      3\u001b[0m \u001b[0;31m# Load each test data, create the feature matrix, get numeric prediction\u001b[0m\u001b[0;34m\u001b[0m\u001b[0;34m\u001b[0m\u001b[0;34m\u001b[0m\u001b[0m\n\u001b[1;32m      4\u001b[0m \u001b[0;32mfor\u001b[0m \u001b[0mi\u001b[0m\u001b[0;34m,\u001b[0m \u001b[0mseg_id\u001b[0m \u001b[0;32min\u001b[0m \u001b[0menumerate\u001b[0m\u001b[0;34m(\u001b[0m\u001b[0mtqdm\u001b[0m\u001b[0;34m(\u001b[0m\u001b[0msubmission\u001b[0m\u001b[0;34m.\u001b[0m\u001b[0mindex\u001b[0m\u001b[0;34m)\u001b[0m\u001b[0;34m)\u001b[0m\u001b[0;34m:\u001b[0m\u001b[0;34m\u001b[0m\u001b[0;34m\u001b[0m\u001b[0m\n\u001b[1;32m      5\u001b[0m   \u001b[0;31m#  print(i)\u001b[0m\u001b[0;34m\u001b[0m\u001b[0;34m\u001b[0m\u001b[0;34m\u001b[0m\u001b[0m\n",
            "\u001b[0;31mNameError\u001b[0m: name 'pd' is not defined"
          ]
        }
      ]
    }
  ]
}