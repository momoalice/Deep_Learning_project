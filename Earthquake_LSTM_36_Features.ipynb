{
  "nbformat": 4,
  "nbformat_minor": 0,
  "metadata": {
    "colab": {
      "name": "Earthquake CNN LSTM 36 Features.ipynb",
      "version": "0.3.2",
      "provenance": [],
      "collapsed_sections": []
    },
    "kernelspec": {
      "name": "python3",
      "display_name": "Python 3"
    },
    "accelerator": "GPU"
  },
  "cells": [
    {
      "metadata": {
        "id": "XCXj10IX91Ao",
        "colab_type": "code",
        "colab": {
          "base_uri": "https://localhost:8080/",
          "height": 310
        },
        "outputId": "8e722edf-0107-4344-ac4c-fe535d42fb3f"
      },
      "cell_type": "code",
      "source": [
        "!pip install numpy==1.15.1"
      ],
      "execution_count": 6,
      "outputs": [
        {
          "output_type": "stream",
          "text": [
            "Collecting numpy==1.15.1\n",
            "\u001b[?25l  Downloading https://files.pythonhosted.org/packages/fe/94/7049fed8373c52839c8cde619acaf2c9b83082b935e5aa8c0fa27a4a8bcc/numpy-1.15.1-cp36-cp36m-manylinux1_x86_64.whl (13.9MB)\n",
            "\u001b[K    100% |████████████████████████████████| 13.9MB 2.9MB/s \n",
            "\u001b[31mfeaturetools 0.4.1 has requirement pandas>=0.23.0, but you'll have pandas 0.22.0 which is incompatible.\u001b[0m\n",
            "\u001b[31mdatascience 0.10.6 has requirement folium==0.2.1, but you'll have folium 0.8.3 which is incompatible.\u001b[0m\n",
            "\u001b[31malbumentations 0.1.12 has requirement imgaug<0.2.7,>=0.2.5, but you'll have imgaug 0.2.8 which is incompatible.\u001b[0m\n",
            "\u001b[?25hInstalling collected packages: numpy\n",
            "  Found existing installation: numpy 1.14.6\n",
            "    Uninstalling numpy-1.14.6:\n",
            "      Successfully uninstalled numpy-1.14.6\n",
            "Successfully installed numpy-1.15.1\n"
          ],
          "name": "stdout"
        },
        {
          "output_type": "display_data",
          "data": {
            "application/vnd.colab-display-data+json": {
              "pip_warning": {
                "packages": [
                  "numpy"
                ]
              }
            }
          },
          "metadata": {
            "tags": []
          }
        }
      ]
    },
    {
      "metadata": {
        "id": "NnNwobQfn92u",
        "colab_type": "code",
        "outputId": "a11dd457-42a2-4215-c6dc-0acc4e8da6cf",
        "colab": {
          "base_uri": "https://localhost:8080/",
          "height": 272
        }
      },
      "cell_type": "code",
      "source": [
        "# Connect Google drive with the colab\n",
        "from google.colab import drive\n",
        "drive.mount('/content/drive')\n",
        "import os\n",
        "os.listdir('/content/drive/My Drive/DL_Final_Proj')"
      ],
      "execution_count": 2,
      "outputs": [
        {
          "output_type": "stream",
          "text": [
            "Drive already mounted at /content/drive; to attempt to forcibly remount, call drive.mount(\"/content/drive\", force_remount=True).\n"
          ],
          "name": "stdout"
        },
        {
          "output_type": "execute_result",
          "data": {
            "text/plain": [
              "['train.csv',\n",
              " 'sample_submission.csv',\n",
              " 'test',\n",
              " 'submission.csv',\n",
              " 'Copy of Earthquake.ipynb',\n",
              " 'X_tr',\n",
              " 'y_tr',\n",
              " 'Earthquake CNN GRU.ipynb',\n",
              " 'submission_gru_48features.csv',\n",
              " 'model',\n",
              " 'Earthquake.ipynb',\n",
              " 'model_36_features',\n",
              " 'submission_gru_36_features.csv',\n",
              " 'Earthquake CNN GRU (1).ipynb']"
            ]
          },
          "metadata": {
            "tags": []
          },
          "execution_count": 2
        }
      ]
    },
    {
      "metadata": {
        "id": "PH-liBbIqYRs",
        "colab_type": "code",
        "colab": {}
      },
      "cell_type": "code",
      "source": [
        "root = '/content/drive/My Drive/DL_Final_Proj/'"
      ],
      "execution_count": 0,
      "outputs": []
    },
    {
      "metadata": {
        "id": "pm9iW8lKXhDm",
        "colab_type": "code",
        "colab": {}
      },
      "cell_type": "code",
      "source": [
        "# BASIC IDEA OF THE KERNEL\n",
        "\n",
        "# The data consists of a one dimensional time series x with 600 Mio data points. \n",
        "# At test time, we will see a time series of length 150'000 to predict the next earthquake.\n",
        "# The idea of this kernel is to randomly sample chunks of length 150'000 from x, derive some\n",
        "# features and use them to update weights of a recurrent neural net with 150'000 / 1000 = 150\n",
        "# time steps. \n",
        "\n",
        "import numpy as np \n",
        "np.version.version\n",
        "import pandas as pd\n",
        "import os\n",
        "from tqdm import tqdm\n",
        "\n",
        "# Fix seeds\n",
        "from numpy.random import seed\n",
        "seed(639)\n",
        "from tensorflow import set_random_seed\n",
        "set_random_seed(5944)\n",
        "\n",
        "# Import\n",
        "float_data = pd.read_csv(root + \"train.csv\", dtype={\"acoustic_data\": np.float32, \"time_to_failure\": np.float32}).values"
      ],
      "execution_count": 0,
      "outputs": []
    },
    {
      "metadata": {
        "id": "blBPTr0BXvnq",
        "colab_type": "code",
        "outputId": "a65ec4e5-21c6-4656-f5b7-69fe6dabf668",
        "colab": {
          "base_uri": "https://localhost:8080/",
          "height": 34
        }
      },
      "cell_type": "code",
      "source": [
        "# Helper function for the data generator. Extracts mean, standard deviation, and quantiles per time step.\n",
        "# Can easily be extended. Expects a two dimensional array.\n",
        "def extract_features(z):\n",
        "#       z_std = z.std(axis=1)\n",
        "#       z_mean = z.mean(axis=1)\n",
        "#       print(z.mean(axis=1))\n",
        "#       x_roll_mean = x.rolling(windows).mean().dropna().values\n",
        "      return np.c_[z.mean(axis=1), \n",
        "                  z.min(axis=1),\n",
        "                  z.max(axis=1),\n",
        "                  z.std(axis=1),\n",
        "                  z.sum(axis=1),\n",
        "                  np.abs(z).max(axis=1),\n",
        "                  np.abs(z).min(axis=1),\n",
        "                  np.quantile(z, 0.01, axis=1),\n",
        "                  np.quantile(z, 0.05, axis=1),\n",
        "                  np.quantile(z, 0.95, axis=1),\n",
        "                  np.quantile(z, 0.99, axis=1),\n",
        "                  np.mean((np.diff(z, axis=1)),axis=1)]\n",
        "\n",
        "# For a given ending position \"last_index\", we split the last 150'000 values \n",
        "# of \"x\" into 150 pieces of length 1000 each. So n_steps * step_length should equal 150'000.\n",
        "# From each piece, a set features are extracted. This results in a feature matrix \n",
        "# of dimension (150 time steps x features).  \n",
        "def create_X(x, last_index=None, n_steps=150, step_length=1000):\n",
        "    if last_index == None:\n",
        "        last_index=len(x)\n",
        "       \n",
        "    assert last_index - n_steps * step_length >= 0\n",
        "\n",
        "    # Reshaping and approximate standardization with mean 5 and std 3.\n",
        "    temp = (x[(last_index - n_steps * step_length):last_index].reshape(n_steps, -1) - 5 ) / 3\n",
        "    \n",
        "    # Extracts features of sequences of full length 1000, of the last 100 values and finally also \n",
        "    # of the last 10 observations. \n",
        "    return np.c_[extract_features(temp),\n",
        "                 extract_features(temp[:, -step_length // 10:]),\n",
        "                 extract_features(temp[:, -step_length // 100:])]\n",
        "\n",
        "# Query \"create_X\" to figure out the number of features\n",
        "n_features = create_X(float_data[0:150000]).shape[1]\n",
        "print(\"Our RNN is based on %i features\"% n_features)\n",
        "    "
      ],
      "execution_count": 6,
      "outputs": [
        {
          "output_type": "stream",
          "text": [
            "Our RNN is based on 36 features\n"
          ],
          "name": "stdout"
        }
      ]
    },
    {
      "metadata": {
        "id": "9ni-IKYlXsdV",
        "colab_type": "code",
        "colab": {}
      },
      "cell_type": "code",
      "source": [
        "# The generator endlessly selects \"batch_size\" ending positions of sub-time series. For each ending position,\n",
        "# the \"time_to_failure\" serves as target, while the features are created by the function \"create_X\".\n",
        "def generator(data, min_index=0, max_index=None, batch_size=16, n_steps=150, step_length=1000):\n",
        "    if max_index is None:\n",
        "        max_index = len(data) - 1\n",
        "     \n",
        "    while True:\n",
        "        # Pick indices of ending positions\n",
        "        rows = np.random.randint(min_index + n_steps * step_length, max_index, size=batch_size)\n",
        "         \n",
        "        # Initialize feature matrices and targets\n",
        "        samples = np.zeros((batch_size, n_steps, n_features))\n",
        "        targets = np.zeros(batch_size, )\n",
        "        \n",
        "        for j, row in enumerate(rows):\n",
        "            samples[j] = create_X(data[:, 0], last_index=row, n_steps=n_steps, step_length=step_length)\n",
        "            targets[j] = data[row - 1, 1]\n",
        "        yield samples, targets\n",
        "        \n",
        "batch_size = 32\n",
        "\n",
        "# Position of second (of 16) earthquake. Used to have a clean split\n",
        "# between train and validation\n",
        "second_earthquake = 50085877\n",
        "float_data[second_earthquake, 1]\n",
        "\n",
        "# Initialize generators\n",
        "train_gen = generator(float_data, batch_size=batch_size) # Use this for better score\n",
        "# train_gen = generator(float_data, batch_size=batch_size, min_index=second_earthquake + 1)\n",
        "valid_gen = generator(float_data, batch_size=batch_size, max_index=second_earthquake)\n"
      ],
      "execution_count": 0,
      "outputs": []
    },
    {
      "metadata": {
        "id": "4VqFx_8RX3_7",
        "colab_type": "code",
        "outputId": "1621860e-d420-4136-cee5-7e93684c143e",
        "colab": {
          "base_uri": "https://localhost:8080/",
          "height": 360
        }
      },
      "cell_type": "code",
      "source": [
        "# Define model\n",
        "from keras.models import Sequential\n",
        "from keras.layers import Dense, CuDNNGRU, CuDNNLSTM\n",
        "from keras.optimizers import adam\n",
        "from keras.callbacks import ModelCheckpoint\n",
        "\n",
        "cb = [ModelCheckpoint(\"model.hdf5\", save_best_only=True, period=3)]\n",
        "\n",
        "model = Sequential()\n",
        "model.add(CuDNNLSTM(48, input_shape=(None, n_features)))\n",
        "model.add(Dense(100, activation='relu'))\n",
        "model.add(Dense(10, activation='relu'))\n",
        "model.add(Dense(1))\n",
        "\n",
        "model.summary()"
      ],
      "execution_count": 8,
      "outputs": [
        {
          "output_type": "stream",
          "text": [
            "Using TensorFlow backend.\n"
          ],
          "name": "stderr"
        },
        {
          "output_type": "stream",
          "text": [
            "WARNING:tensorflow:From /usr/local/lib/python3.6/dist-packages/tensorflow/python/framework/op_def_library.py:263: colocate_with (from tensorflow.python.framework.ops) is deprecated and will be removed in a future version.\n",
            "Instructions for updating:\n",
            "Colocations handled automatically by placer.\n",
            "_________________________________________________________________\n",
            "Layer (type)                 Output Shape              Param #   \n",
            "=================================================================\n",
            "cu_dnnlstm_1 (CuDNNLSTM)     (None, 48)                16512     \n",
            "_________________________________________________________________\n",
            "dense_1 (Dense)              (None, 100)               4900      \n",
            "_________________________________________________________________\n",
            "dense_2 (Dense)              (None, 10)                1010      \n",
            "_________________________________________________________________\n",
            "dense_3 (Dense)              (None, 1)                 11        \n",
            "=================================================================\n",
            "Total params: 22,433\n",
            "Trainable params: 22,433\n",
            "Non-trainable params: 0\n",
            "_________________________________________________________________\n"
          ],
          "name": "stdout"
        }
      ]
    },
    {
      "metadata": {
        "id": "MlxyGB6BX66p",
        "colab_type": "code",
        "outputId": "dc8b2179-6e22-4de1-ec32-c92ff3556e6e",
        "colab": {
          "base_uri": "https://localhost:8080/",
          "height": 787
        }
      },
      "cell_type": "code",
      "source": [
        "# Compile and fit model\n",
        "model.compile(optimizer=adam(lr=0.0005), loss=\"mae\")\n",
        "\n",
        "history = model.fit_generator(train_gen,\n",
        "                              steps_per_epoch=1000,\n",
        "                              epochs=10,\n",
        "                              verbose=1,\n",
        "                              callbacks=cb,\n",
        "                              validation_data=valid_gen,\n",
        "                              validation_steps=200)\n",
        "\n",
        "# Visualize accuracies\n",
        "import matplotlib.pyplot as plt\n",
        "\n",
        "def perf_plot(history, what = 'loss'):\n",
        "    x = history.history[what]\n",
        "    val_x = history.history['val_' + what]\n",
        "    epochs = np.asarray(history.epoch) + 1\n",
        "    \n",
        "    plt.plot(epochs, x, 'bo', label = \"Training \" + what)\n",
        "    plt.plot(epochs, val_x, 'b', label = \"Validation \" + what)\n",
        "    plt.title(\"Training and validation \" + what)\n",
        "    plt.xlabel(\"Epochs\")\n",
        "    plt.legend()\n",
        "    plt.show()\n",
        "    return None\n",
        "\n",
        "perf_plot(history)"
      ],
      "execution_count": 9,
      "outputs": [
        {
          "output_type": "stream",
          "text": [
            "WARNING:tensorflow:From /usr/local/lib/python3.6/dist-packages/tensorflow/python/ops/math_ops.py:3066: to_int32 (from tensorflow.python.ops.math_ops) is deprecated and will be removed in a future version.\n",
            "Instructions for updating:\n",
            "Use tf.cast instead.\n",
            "Epoch 1/10\n",
            "1000/1000 [==============================] - 791s 791ms/step - loss: 2.9108 - val_loss: 2.5353\n",
            "Epoch 2/10\n",
            "1000/1000 [==============================] - 1011s 1s/step - loss: 2.2940 - val_loss: 1.8400\n",
            "Epoch 3/10\n",
            "1000/1000 [==============================] - 501s 501ms/step - loss: 2.1460 - val_loss: 1.9769\n",
            "Epoch 4/10\n",
            "1000/1000 [==============================] - 525s 525ms/step - loss: 2.0889 - val_loss: 1.6954\n",
            "Epoch 5/10\n",
            "1000/1000 [==============================] - 643s 643ms/step - loss: 2.0982 - val_loss: 1.8401\n",
            "Epoch 6/10\n",
            "1000/1000 [==============================] - 502s 502ms/step - loss: 2.0803 - val_loss: 2.0990\n",
            "Epoch 7/10\n",
            "1000/1000 [==============================] - 512s 512ms/step - loss: 2.0604 - val_loss: 1.7062\n",
            "Epoch 8/10\n",
            "1000/1000 [==============================] - 530s 530ms/step - loss: 2.0664 - val_loss: 1.8261\n",
            "Epoch 9/10\n",
            "1000/1000 [==============================] - 511s 511ms/step - loss: 2.0511 - val_loss: 1.7402\n",
            "Epoch 10/10\n",
            "1000/1000 [==============================] - 513s 513ms/step - loss: 2.0639 - val_loss: 1.8076\n"
          ],
          "name": "stdout"
        },
        {
          "output_type": "display_data",
          "data": {
            "image/png": "[encoded data removed]",
            "text/plain": [
              "<Figure size 576x396 with 1 Axes>"
            ]
          },
          "metadata": {
            "tags": []
          }
        }
      ]
    },
    {
      "metadata": {
        "id": "gzvCfirYkoBf",
        "colab_type": "code",
        "colab": {}
      },
      "cell_type": "code",
      "source": [
        "import pickle\n",
        "pickle.dump(model, open(root+'model_36_features', 'wb'))"
      ],
      "execution_count": 0,
      "outputs": []
    },
    {
      "metadata": {
        "id": "Y4iPbIxhoHSU",
        "colab_type": "code",
        "outputId": "aed42d55-5902-4021-f006-37809a4aa211",
        "colab": {
          "base_uri": "https://localhost:8080/",
          "height": 34
        }
      },
      "cell_type": "code",
      "source": [
        "# Load submission file\n",
        "submission = pd.read_csv(root + 'sample_submission.csv', index_col='seg_id', dtype={\"time_to_failure\": np.float32})\n",
        "\n",
        "# Load each test data, create the feature matrix, get numeric prediction\n",
        "for i, seg_id in enumerate(tqdm(submission.index)):\n",
        "  #  print(i)\n",
        "    seg = pd.read_csv(root + 'test/' + seg_id + '.csv')\n",
        "    x = seg['acoustic_data'].values\n",
        "    submission.time_to_failure[i] = model.predict(np.expand_dims(create_X(x), 0))\n",
        "\n",
        "submission.head()\n",
        "\n",
        "# Save\n",
        "submission.to_csv(root +'submission_lstm_36_features.csv')"
      ],
      "execution_count": 11,
      "outputs": [
        {
          "output_type": "stream",
          "text": [
            "100%|██████████| 2624/2624 [27:08<00:00,  1.65it/s]\n"
          ],
          "name": "stderr"
        }
      ]
    }
  ]
}
